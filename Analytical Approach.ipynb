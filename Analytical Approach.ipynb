{
 "cells": [
  {
   "cell_type": "markdown",
   "id": "b2da636e-59ff-4510-a5ca-b0b97a30558c",
   "metadata": {},
   "source": [
    "### How the datasets related to Two-Pot system's objective\n",
    "\n",
    "- **Adult Census Income Dataset:**\n",
    "  This dataset provides socio-economic features (such as age, work class, education level, marital status, hours worked per week) that are highly relevant to predicting whether an employee will withdraw from the Accessible Pot before retirement. Socio-economic factors often influence financial decisions.\n",
    "\n",
    "- **Global Inflation Dataset:**\n",
    "  Inflation affects the purchasing power and long-term growth of the Locked Pot. Including inflation data (specific to South Africa) will help forecast the growth of the Locked Pot over time.\n"
   ]
  },
  {
   "cell_type": "code",
   "execution_count": 280,
   "id": "5ae834d6-424a-4ba2-8caa-83f1a894bf48",
   "metadata": {},
   "outputs": [],
   "source": [
    "# Import necessary libraries\n",
    "import pandas as pd\n",
    "import numpy as np\n",
    "from sklearn.model_selection import train_test_split, GridSearchCV\n",
    "from sklearn.preprocessing import StandardScaler, LabelEncoder\n",
    "from sklearn.linear_model import LogisticRegression\n",
    "from sklearn.tree import DecisionTreeClassifier\n",
    "from sklearn.ensemble import RandomForestClassifier\n",
    "from sklearn.metrics import classification_report, confusion_matrix, roc_auc_score\n",
    "from sklearn.impute import SimpleImputer\n"
   ]
  },
  {
   "cell_type": "code",
   "execution_count": 281,
   "id": "34c262a5-92da-42ce-928c-8b11a5c5d544",
   "metadata": {},
   "outputs": [],
   "source": [
    "# Adult Census Income dataset\n",
    "adult_census_df = pd.read_csv('C:/Users/notha/TP_Exam/adult.csv')"
   ]
  },
  {
   "cell_type": "code",
   "execution_count": 282,
   "id": "912ac3cc-a4a2-4c84-9df4-208b804fe9b8",
   "metadata": {},
   "outputs": [],
   "source": [
    "# Global Inflation dataset\n",
    "global_inflation_df = pd.read_csv('C:/Users/notha/TP_Exam/global_inflation_data.csv')\n"
   ]
  },
  {
   "cell_type": "code",
   "execution_count": 283,
   "id": "fb0c6984-74ec-49fb-96c1-2cfb5d786c01",
   "metadata": {},
   "outputs": [
    {
     "name": "stdout",
     "output_type": "stream",
     "text": [
      "   age workclass  fnlwgt     education  education.num marital.status  \\\n",
      "0   90         ?   77053       HS-grad              9        Widowed   \n",
      "1   82   Private  132870       HS-grad              9        Widowed   \n",
      "2   66         ?  186061  Some-college             10        Widowed   \n",
      "3   54   Private  140359       7th-8th              4       Divorced   \n",
      "4   41   Private  264663  Some-college             10      Separated   \n",
      "\n",
      "          occupation   relationship   race     sex  capital.gain  \\\n",
      "0                  ?  Not-in-family  White  Female             0   \n",
      "1    Exec-managerial  Not-in-family  White  Female             0   \n",
      "2                  ?      Unmarried  Black  Female             0   \n",
      "3  Machine-op-inspct      Unmarried  White  Female             0   \n",
      "4     Prof-specialty      Own-child  White  Female             0   \n",
      "\n",
      "   capital.loss  hours.per.week native.country income  \n",
      "0          4356              40  United-States  <=50K  \n",
      "1          4356              18  United-States  <=50K  \n",
      "2          4356              40  United-States  <=50K  \n",
      "3          3900              40  United-States  <=50K  \n",
      "4          3900              40  United-States  <=50K  \n"
     ]
    }
   ],
   "source": [
    "# View the first few rows of each dataset\n",
    "print(adult_census_df.head())"
   ]
  },
  {
   "cell_type": "code",
   "execution_count": 284,
   "id": "b7923171-739f-4f6f-8e22-b394d65cc482",
   "metadata": {},
   "outputs": [
    {
     "name": "stdout",
     "output_type": "stream",
     "text": [
      "  country_name                                   indicator_name  1980  1981  \\\n",
      "0  Afghanistan  Annual average inflation (consumer prices) rate  13.4  22.2   \n",
      "1      Albania  Annual average inflation (consumer prices) rate   NaN   NaN   \n",
      "2      Algeria  Annual average inflation (consumer prices) rate   9.7  14.6   \n",
      "3      Andorra  Annual average inflation (consumer prices) rate   NaN   NaN   \n",
      "4       Angola  Annual average inflation (consumer prices) rate  46.7   1.4   \n",
      "\n",
      "   1982  1983  1984  1985  1986  1987  ...  2015   2016   2017   2018  2019  \\\n",
      "0  18.2  15.9  20.4   8.7  -2.1  18.4  ... -0.66   4.38   4.98   0.63   2.3   \n",
      "1   NaN   NaN   NaN   NaN   NaN   NaN  ...  1.90   1.30   2.00   2.00   1.4   \n",
      "2   6.6   7.8   6.3  10.4  14.0   5.9  ...  4.80   6.40   5.60   4.30   2.0   \n",
      "3   NaN   NaN   NaN   NaN   NaN   NaN  ... -1.10  -0.40   2.60   1.00   0.5   \n",
      "4   1.8   1.8   1.8   1.8   1.8   1.8  ...  9.20  30.70  29.80  19.60  17.1   \n",
      "\n",
      "    2020   2021   2022  2023  2024  \n",
      "0   5.44   5.06  13.71   9.1   NaN  \n",
      "1   1.60   2.00   6.70   4.8   4.0  \n",
      "2   2.40   7.20   9.30   9.0   6.8  \n",
      "3   0.10   1.70   6.20   5.2   3.5  \n",
      "4  22.30  25.80  21.40  13.1  22.3  \n",
      "\n",
      "[5 rows x 47 columns]\n"
     ]
    }
   ],
   "source": [
    "print(global_inflation_df.head())"
   ]
  },
  {
   "cell_type": "code",
   "execution_count": 285,
   "id": "a0b69f78-de2e-4a09-9fb5-0fe3c549d9a7",
   "metadata": {},
   "outputs": [
    {
     "name": "stdout",
     "output_type": "stream",
     "text": [
      "<class 'pandas.core.frame.DataFrame'>\n",
      "RangeIndex: 32561 entries, 0 to 32560\n",
      "Data columns (total 15 columns):\n",
      " #   Column          Non-Null Count  Dtype \n",
      "---  ------          --------------  ----- \n",
      " 0   age             32561 non-null  int64 \n",
      " 1   workclass       32561 non-null  object\n",
      " 2   fnlwgt          32561 non-null  int64 \n",
      " 3   education       32561 non-null  object\n",
      " 4   education.num   32561 non-null  int64 \n",
      " 5   marital.status  32561 non-null  object\n",
      " 6   occupation      32561 non-null  object\n",
      " 7   relationship    32561 non-null  object\n",
      " 8   race            32561 non-null  object\n",
      " 9   sex             32561 non-null  object\n",
      " 10  capital.gain    32561 non-null  int64 \n",
      " 11  capital.loss    32561 non-null  int64 \n",
      " 12  hours.per.week  32561 non-null  int64 \n",
      " 13  native.country  32561 non-null  object\n",
      " 14  income          32561 non-null  object\n",
      "dtypes: int64(6), object(9)\n",
      "memory usage: 3.7+ MB\n"
     ]
    }
   ],
   "source": [
    "adult_census_df.info()"
   ]
  },
  {
   "cell_type": "code",
   "execution_count": 286,
   "id": "7dc8515c-8ae4-4811-af8c-9ad0c9d7bcfb",
   "metadata": {},
   "outputs": [
    {
     "name": "stdout",
     "output_type": "stream",
     "text": [
      "<class 'pandas.core.frame.DataFrame'>\n",
      "RangeIndex: 196 entries, 0 to 195\n",
      "Data columns (total 47 columns):\n",
      " #   Column          Non-Null Count  Dtype  \n",
      "---  ------          --------------  -----  \n",
      " 0   country_name    196 non-null    object \n",
      " 1   indicator_name  196 non-null    object \n",
      " 2   1980            140 non-null    float64\n",
      " 3   1981            144 non-null    float64\n",
      " 4   1982            145 non-null    float64\n",
      " 5   1983            145 non-null    float64\n",
      " 6   1984            145 non-null    float64\n",
      " 7   1985            145 non-null    float64\n",
      " 8   1986            145 non-null    float64\n",
      " 9   1987            147 non-null    float64\n",
      " 10  1988            147 non-null    float64\n",
      " 11  1989            147 non-null    float64\n",
      " 12  1990            150 non-null    float64\n",
      " 13  1991            155 non-null    float64\n",
      " 14  1992            158 non-null    float64\n",
      " 15  1993            169 non-null    float64\n",
      " 16  1994            171 non-null    float64\n",
      " 17  1995            172 non-null    float64\n",
      " 18  1996            176 non-null    float64\n",
      " 19  1997            179 non-null    float64\n",
      " 20  1998            181 non-null    float64\n",
      " 21  1999            182 non-null    float64\n",
      " 22  2000            183 non-null    float64\n",
      " 23  2001            187 non-null    float64\n",
      " 24  2002            189 non-null    float64\n",
      " 25  2003            190 non-null    float64\n",
      " 26  2004            191 non-null    float64\n",
      " 27  2005            193 non-null    float64\n",
      " 28  2006            193 non-null    float64\n",
      " 29  2007            193 non-null    float64\n",
      " 30  2008            193 non-null    float64\n",
      " 31  2009            193 non-null    float64\n",
      " 32  2010            193 non-null    float64\n",
      " 33  2011            192 non-null    float64\n",
      " 34  2012            193 non-null    float64\n",
      " 35  2013            194 non-null    float64\n",
      " 36  2014            194 non-null    float64\n",
      " 37  2015            194 non-null    float64\n",
      " 38  2016            194 non-null    float64\n",
      " 39  2017            195 non-null    float64\n",
      " 40  2018            195 non-null    float64\n",
      " 41  2019            195 non-null    float64\n",
      " 42  2020            194 non-null    float64\n",
      " 43  2021            194 non-null    float64\n",
      " 44  2022            194 non-null    float64\n",
      " 45  2023            192 non-null    float64\n",
      " 46  2024            191 non-null    float64\n",
      "dtypes: float64(45), object(2)\n",
      "memory usage: 72.1+ KB\n"
     ]
    }
   ],
   "source": [
    "global_inflation_df.info()"
   ]
  },
  {
   "cell_type": "code",
   "execution_count": 287,
   "id": "aa4e07b6-c14e-45fb-977d-2c6316fb6bde",
   "metadata": {},
   "outputs": [
    {
     "name": "stdout",
     "output_type": "stream",
     "text": [
      "\n",
      "Columns in Adult Census Income Dataset:\n",
      "Index(['age', 'workclass', 'fnlwgt', 'education', 'education.num',\n",
      "       'marital.status', 'occupation', 'relationship', 'race', 'sex',\n",
      "       'capital.gain', 'capital.loss', 'hours.per.week', 'native.country',\n",
      "       'income'],\n",
      "      dtype='object')\n"
     ]
    }
   ],
   "source": [
    "print(\"\\nColumns in Adult Census Income Dataset:\")\n",
    "print(adult_census_df.columns)\n"
   ]
  },
  {
   "cell_type": "markdown",
   "id": "c60d7750-cbe8-416a-aa97-c099c8a211c2",
   "metadata": {},
   "source": [
    "- **Adult Census Dataset:** \n",
    "We’ll use mode or median imputation for missing values."
   ]
  },
  {
   "cell_type": "code",
   "execution_count": 288,
   "id": "d21b9de1-b023-4195-9619-090c47cf9817",
   "metadata": {},
   "outputs": [
    {
     "name": "stdout",
     "output_type": "stream",
     "text": [
      "\n",
      "Missing values in Adult Census Income Dataset:\n",
      "age               0\n",
      "workclass         0\n",
      "fnlwgt            0\n",
      "education         0\n",
      "education.num     0\n",
      "marital.status    0\n",
      "occupation        0\n",
      "relationship      0\n",
      "race              0\n",
      "sex               0\n",
      "capital.gain      0\n",
      "capital.loss      0\n",
      "hours.per.week    0\n",
      "native.country    0\n",
      "income            0\n",
      "dtype: int64\n"
     ]
    }
   ],
   "source": [
    "# Check for missing values\n",
    "print(\"\\nMissing values in Adult Census Income Dataset:\")\n",
    "print(adult_census_df.isnull().sum())\n"
   ]
  },
  {
   "cell_type": "code",
   "execution_count": 289,
   "id": "3e79c3ac-c741-44d2-95bc-5da40693daed",
   "metadata": {},
   "outputs": [],
   "source": [
    "# Impute missing values\n",
    "# Assuming 'age', 'hours.per.week' are numerical, and others are categorical\n",
    "imputer_num = SimpleImputer(strategy='median')\n",
    "imputer_cat = SimpleImputer(strategy='most_frequent')"
   ]
  },
  {
   "cell_type": "code",
   "execution_count": 290,
   "id": "c3d32c70-e030-49c5-bada-b4a885e7dbc8",
   "metadata": {},
   "outputs": [],
   "source": [
    "# Apply imputers to relevant columns and flatten to 1D\n",
    "adult_census_df['age'] = imputer_num.fit_transform(adult_census_df[['age']]).ravel()\n",
    "adult_census_df['hours.per.week'] = imputer_num.fit_transform(adult_census_df[['hours.per.week']]).ravel()\n",
    "adult_census_df['workclass'] = imputer_cat.fit_transform(adult_census_df[['workclass']]).ravel()\n",
    "adult_census_df['occupation'] = imputer_cat.fit_transform(adult_census_df[['occupation']]).ravel()"
   ]
  },
  {
   "cell_type": "code",
   "execution_count": 291,
   "id": "a7409b46-b852-42b5-9a04-49396f20f2bd",
   "metadata": {},
   "outputs": [
    {
     "name": "stdout",
     "output_type": "stream",
     "text": [
      "\n",
      "Missing values after imputation:\n",
      "age               0\n",
      "workclass         0\n",
      "fnlwgt            0\n",
      "education         0\n",
      "education.num     0\n",
      "marital.status    0\n",
      "occupation        0\n",
      "relationship      0\n",
      "race              0\n",
      "sex               0\n",
      "capital.gain      0\n",
      "capital.loss      0\n",
      "hours.per.week    0\n",
      "native.country    0\n",
      "income            0\n",
      "dtype: int64\n"
     ]
    }
   ],
   "source": [
    "# Check to ensure no missing values remain\n",
    "print(\"\\nMissing values after imputation:\")\n",
    "print(adult_census_df.isnull().sum())"
   ]
  },
  {
   "cell_type": "markdown",
   "id": "ced93f9c-e7b9-42f3-a3ab-56324a823559",
   "metadata": {},
   "source": [
    "- **Global Inflation Dataset:** We'll handle missing inflation values using interpolation for missing years."
   ]
  },
  {
   "cell_type": "code",
   "execution_count": 292,
   "id": "df0a7671-7a13-4753-91f2-3fa4b06b894a",
   "metadata": {},
   "outputs": [
    {
     "name": "stdout",
     "output_type": "stream",
     "text": [
      "\n",
      "Missing values in Global Inflation Dataset:\n",
      "country_name       0\n",
      "indicator_name     0\n",
      "1980              56\n",
      "1981              52\n",
      "1982              51\n",
      "1983              51\n",
      "1984              51\n",
      "1985              51\n",
      "1986              51\n",
      "1987              49\n",
      "1988              49\n",
      "1989              49\n",
      "1990              46\n",
      "1991              41\n",
      "1992              38\n",
      "1993              27\n",
      "1994              25\n",
      "1995              24\n",
      "1996              20\n",
      "1997              17\n",
      "1998              15\n",
      "1999              14\n",
      "2000              13\n",
      "2001               9\n",
      "2002               7\n",
      "2003               6\n",
      "2004               5\n",
      "2005               3\n",
      "2006               3\n",
      "2007               3\n",
      "2008               3\n",
      "2009               3\n",
      "2010               3\n",
      "2011               4\n",
      "2012               3\n",
      "2013               2\n",
      "2014               2\n",
      "2015               2\n",
      "2016               2\n",
      "2017               1\n",
      "2018               1\n",
      "2019               1\n",
      "2020               2\n",
      "2021               2\n",
      "2022               2\n",
      "2023               4\n",
      "2024               5\n",
      "dtype: int64\n",
      "\n",
      "Missing values in Global Inflation Dataset after interpolation:\n",
      "country_name      0\n",
      "indicator_name    0\n",
      "1980              0\n",
      "1981              0\n",
      "1982              0\n",
      "1983              0\n",
      "1984              0\n",
      "1985              0\n",
      "1986              0\n",
      "1987              0\n",
      "1988              0\n",
      "1989              0\n",
      "1990              0\n",
      "1991              0\n",
      "1992              0\n",
      "1993              0\n",
      "1994              0\n",
      "1995              0\n",
      "1996              0\n",
      "1997              0\n",
      "1998              0\n",
      "1999              0\n",
      "2000              0\n",
      "2001              0\n",
      "2002              0\n",
      "2003              0\n",
      "2004              0\n",
      "2005              0\n",
      "2006              0\n",
      "2007              0\n",
      "2008              0\n",
      "2009              0\n",
      "2010              0\n",
      "2011              0\n",
      "2012              0\n",
      "2013              0\n",
      "2014              0\n",
      "2015              0\n",
      "2016              0\n",
      "2017              0\n",
      "2018              0\n",
      "2019              0\n",
      "2020              0\n",
      "2021              0\n",
      "2022              0\n",
      "2023              0\n",
      "2024              1\n",
      "dtype: int64\n"
     ]
    },
    {
     "name": "stderr",
     "output_type": "stream",
     "text": [
      "C:\\Users\\notha\\AppData\\Local\\Temp\\ipykernel_16332\\34889907.py:6: FutureWarning: DataFrame.interpolate with object dtype is deprecated and will raise in a future version. Call obj.infer_objects(copy=False) before interpolating instead.\n",
      "  global_inflation_df.interpolate(method='linear', inplace=True)\n"
     ]
    }
   ],
   "source": [
    "# Check for missing values in global inflation data\n",
    "print(\"\\nMissing values in Global Inflation Dataset:\")\n",
    "print(global_inflation_df.isnull().sum())\n",
    "\n",
    "# Interpolate missing inflation data\n",
    "global_inflation_df.interpolate(method='linear', inplace=True)\n",
    "\n",
    "# Check if there are still missing values\n",
    "print(\"\\nMissing values in Global Inflation Dataset after interpolation:\")\n",
    "print(global_inflation_df.isnull().sum())\n"
   ]
  },
  {
   "cell_type": "code",
   "execution_count": 293,
   "id": "f8be00cb-59c2-445d-b56a-a2eb192e3850",
   "metadata": {},
   "outputs": [
    {
     "name": "stdout",
     "output_type": "stream",
     "text": [
      "Index(['country_name', 'indicator_name', '1980', '1981', '1982', '1983',\n",
      "       '1984', '1985', '1986', '1987', '1988', '1989', '1990', '1991', '1992',\n",
      "       '1993', '1994', '1995', '1996', '1997', '1998', '1999', '2000', '2001',\n",
      "       '2002', '2003', '2004', '2005', '2006', '2007', '2008', '2009', '2010',\n",
      "       '2011', '2012', '2013', '2014', '2015', '2016', '2017', '2018', '2019',\n",
      "       '2020', '2021', '2022', '2023', '2024'],\n",
      "      dtype='object')\n"
     ]
    }
   ],
   "source": [
    "print(global_inflation_df.columns)"
   ]
  },
  {
   "cell_type": "markdown",
   "id": "78a3152b-24fb-4df6-a04d-3fb9ed1d0f12",
   "metadata": {},
   "source": [
    "#### Categorical Encoding\n",
    "For the Adult Census Income Dataset, we will convert categorical variables into numerical representations using LabelEncoder or one-hot encoding."
   ]
  },
  {
   "cell_type": "code",
   "execution_count": 294,
   "id": "8646f841-af99-45e2-8e64-be601c62303f",
   "metadata": {},
   "outputs": [],
   "source": [
    "# List of categorical features\n",
    "categorical_features = ['workclass', 'education', 'marital.status', 'occupation', 'relationship', 'race', 'sex', 'native.country']\n",
    "\n",
    "# Apply Label Encoding to each categorical feature\n",
    "for col in categorical_features:\n",
    "    le = LabelEncoder()\n",
    "    adult_census_df[col] = le.fit_transform(adult_census_df[col].astype(str))  # Ensure that all values are treated as strings\n",
    "\n",
    "# Now separate your features and target\n",
    "X = adult_census_df.drop('income', axis=1)\n",
    "y = adult_census_df['income']"
   ]
  },
  {
   "cell_type": "markdown",
   "id": "67ab7951-9695-466e-9440-b68926357240",
   "metadata": {},
   "source": [
    "We will scale numerical columns like age and hours_per_week to ensure they have a uniform range."
   ]
  },
  {
   "cell_type": "code",
   "execution_count": 295,
   "id": "c600e6f9-6c35-4080-80be-7356050a8c9b",
   "metadata": {},
   "outputs": [
    {
     "name": "stdout",
     "output_type": "stream",
     "text": [
      "\n",
      "Standardized Age and Hours per Week:\n",
      "        age  hours.per.week\n",
      "0  3.769612       -0.035429\n",
      "1  3.183112       -1.817204\n",
      "2  2.010110       -0.035429\n",
      "3  1.130359       -0.035429\n",
      "4  0.177296       -0.035429\n"
     ]
    }
   ],
   "source": [
    "# Standardize numerical features\n",
    "scaler = StandardScaler()\n",
    "adult_census_df[['age', 'hours.per.week']] = scaler.fit_transform(adult_census_df[['age', 'hours.per.week']])\n",
    "\n",
    "# Check the results\n",
    "print(\"\\nStandardized Age and Hours per Week:\")\n",
    "print(adult_census_df[['age', 'hours.per.week']].head())\n",
    "\n"
   ]
  },
  {
   "cell_type": "code",
   "execution_count": 296,
   "id": "184d2c1f-1857-4061-94d7-47bb628b4408",
   "metadata": {},
   "outputs": [],
   "source": [
    "# Convert income to a binary classification (0 for <=50K, 1 for >50K)\n",
    "adult_census_df['income'] = adult_census_df['income'].apply(lambda x: 1 if x == '>50K' else 0)"
   ]
  },
  {
   "cell_type": "code",
   "execution_count": 297,
   "id": "83c264ee-d1f7-413f-a68d-4cacafe42dca",
   "metadata": {},
   "outputs": [],
   "source": [
    "# Feature engineering: create income-to-hours ratio (ignore income column for ratio)\n",
    "adult_census_df['income.to.hours'] = adult_census_df['income'] / adult_census_df['hours.per.week']\n"
   ]
  },
  {
   "cell_type": "markdown",
   "id": "2a193faa-8cd3-4b8b-9e2b-38c7a610a71b",
   "metadata": {},
   "source": [
    "#### Filtering and Reshaping the Global Inflation Data\n",
    "Since we are focused on South Africa’s inflation data, we’ll filter and reshape the dataset to only include relevant rows."
   ]
  },
  {
   "cell_type": "code",
   "execution_count": 298,
   "id": "38d3a181-b85a-43f6-9cae-7d228d7c7f29",
   "metadata": {},
   "outputs": [
    {
     "name": "stdout",
     "output_type": "stream",
     "text": [
      "\n",
      "Reshaped South Africa Inflation Data:\n",
      "   country_name                                   indicator_name  year  \\\n",
      "0  South Africa  Annual average inflation (consumer prices) rate  1980   \n",
      "1  South Africa  Annual average inflation (consumer prices) rate  1981   \n",
      "2  South Africa  Annual average inflation (consumer prices) rate  1982   \n",
      "3  South Africa  Annual average inflation (consumer prices) rate  1983   \n",
      "4  South Africa  Annual average inflation (consumer prices) rate  1984   \n",
      "\n",
      "   inflation_rate  \n",
      "0            14.2  \n",
      "1            15.3  \n",
      "2            13.7  \n",
      "3            12.8  \n",
      "4            11.3  \n"
     ]
    }
   ],
   "source": [
    "# Filter South Africa's inflation data\n",
    "sa_inflation_df = global_inflation_df[global_inflation_df['country_name'] == 'South Africa']\n",
    "\n",
    "# Reshape the dataframe to have one row per year\n",
    "sa_inflation_df = sa_inflation_df.melt(id_vars=['country_name', 'indicator_name'], \n",
    "                                       var_name='year', value_name='inflation_rate')\n",
    "\n",
    "# Convert year to integer\n",
    "sa_inflation_df['year'] = sa_inflation_df['year'].astype(int)\n",
    "\n",
    "# Check the reshaped dataframe\n",
    "print(\"\\nReshaped South Africa Inflation Data:\")\n",
    "print(sa_inflation_df.head())\n"
   ]
  },
  {
   "cell_type": "markdown",
   "id": "c12c02d1-5904-4412-b4b6-cbb8fa1e0166",
   "metadata": {},
   "source": [
    "#### Data Preparation for Machine Learning\n",
    "Finally, we'll prepare the data for model training by splitting the datasets into training and test sets."
   ]
  },
  {
   "cell_type": "code",
   "execution_count": 299,
   "id": "48c89da9-2404-4deb-be98-b4bd0909b01c",
   "metadata": {},
   "outputs": [
    {
     "name": "stdout",
     "output_type": "stream",
     "text": [
      "\n",
      "Shapes of training and testing datasets:\n",
      "(26048, 15) (6513, 15) (26048,) (6513,)\n"
     ]
    }
   ],
   "source": [
    "# Split Adult Census Income dataset into features and labels\n",
    "X = adult_census_df.drop(columns=['income'])\n",
    "y = adult_census_df['income']\n",
    "\n",
    "# Split data into training and test sets\n",
    "X_train, X_test, y_train, y_test = train_test_split(X, y, test_size=0.2, random_state=42)\n",
    "\n",
    "# Check the shapes of the datasets\n",
    "print(\"\\nShapes of training and testing datasets:\")\n",
    "print(X_train.shape, X_test.shape, y_train.shape, y_test.shape)"
   ]
  },
  {
   "cell_type": "code",
   "execution_count": 300,
   "id": "e4651730-13a8-4297-b508-89182fa9c606",
   "metadata": {},
   "outputs": [
    {
     "data": {
      "text/html": [
       "<style>#sk-container-id-2 {\n",
       "  /* Definition of color scheme common for light and dark mode */\n",
       "  --sklearn-color-text: black;\n",
       "  --sklearn-color-line: gray;\n",
       "  /* Definition of color scheme for unfitted estimators */\n",
       "  --sklearn-color-unfitted-level-0: #fff5e6;\n",
       "  --sklearn-color-unfitted-level-1: #f6e4d2;\n",
       "  --sklearn-color-unfitted-level-2: #ffe0b3;\n",
       "  --sklearn-color-unfitted-level-3: chocolate;\n",
       "  /* Definition of color scheme for fitted estimators */\n",
       "  --sklearn-color-fitted-level-0: #f0f8ff;\n",
       "  --sklearn-color-fitted-level-1: #d4ebff;\n",
       "  --sklearn-color-fitted-level-2: #b3dbfd;\n",
       "  --sklearn-color-fitted-level-3: cornflowerblue;\n",
       "\n",
       "  /* Specific color for light theme */\n",
       "  --sklearn-color-text-on-default-background: var(--sg-text-color, var(--theme-code-foreground, var(--jp-content-font-color1, black)));\n",
       "  --sklearn-color-background: var(--sg-background-color, var(--theme-background, var(--jp-layout-color0, white)));\n",
       "  --sklearn-color-border-box: var(--sg-text-color, var(--theme-code-foreground, var(--jp-content-font-color1, black)));\n",
       "  --sklearn-color-icon: #696969;\n",
       "\n",
       "  @media (prefers-color-scheme: dark) {\n",
       "    /* Redefinition of color scheme for dark theme */\n",
       "    --sklearn-color-text-on-default-background: var(--sg-text-color, var(--theme-code-foreground, var(--jp-content-font-color1, white)));\n",
       "    --sklearn-color-background: var(--sg-background-color, var(--theme-background, var(--jp-layout-color0, #111)));\n",
       "    --sklearn-color-border-box: var(--sg-text-color, var(--theme-code-foreground, var(--jp-content-font-color1, white)));\n",
       "    --sklearn-color-icon: #878787;\n",
       "  }\n",
       "}\n",
       "\n",
       "#sk-container-id-2 {\n",
       "  color: var(--sklearn-color-text);\n",
       "}\n",
       "\n",
       "#sk-container-id-2 pre {\n",
       "  padding: 0;\n",
       "}\n",
       "\n",
       "#sk-container-id-2 input.sk-hidden--visually {\n",
       "  border: 0;\n",
       "  clip: rect(1px 1px 1px 1px);\n",
       "  clip: rect(1px, 1px, 1px, 1px);\n",
       "  height: 1px;\n",
       "  margin: -1px;\n",
       "  overflow: hidden;\n",
       "  padding: 0;\n",
       "  position: absolute;\n",
       "  width: 1px;\n",
       "}\n",
       "\n",
       "#sk-container-id-2 div.sk-dashed-wrapped {\n",
       "  border: 1px dashed var(--sklearn-color-line);\n",
       "  margin: 0 0.4em 0.5em 0.4em;\n",
       "  box-sizing: border-box;\n",
       "  padding-bottom: 0.4em;\n",
       "  background-color: var(--sklearn-color-background);\n",
       "}\n",
       "\n",
       "#sk-container-id-2 div.sk-container {\n",
       "  /* jupyter's `normalize.less` sets `[hidden] { display: none; }`\n",
       "     but bootstrap.min.css set `[hidden] { display: none !important; }`\n",
       "     so we also need the `!important` here to be able to override the\n",
       "     default hidden behavior on the sphinx rendered scikit-learn.org.\n",
       "     See: https://github.com/scikit-learn/scikit-learn/issues/21755 */\n",
       "  display: inline-block !important;\n",
       "  position: relative;\n",
       "}\n",
       "\n",
       "#sk-container-id-2 div.sk-text-repr-fallback {\n",
       "  display: none;\n",
       "}\n",
       "\n",
       "div.sk-parallel-item,\n",
       "div.sk-serial,\n",
       "div.sk-item {\n",
       "  /* draw centered vertical line to link estimators */\n",
       "  background-image: linear-gradient(var(--sklearn-color-text-on-default-background), var(--sklearn-color-text-on-default-background));\n",
       "  background-size: 2px 100%;\n",
       "  background-repeat: no-repeat;\n",
       "  background-position: center center;\n",
       "}\n",
       "\n",
       "/* Parallel-specific style estimator block */\n",
       "\n",
       "#sk-container-id-2 div.sk-parallel-item::after {\n",
       "  content: \"\";\n",
       "  width: 100%;\n",
       "  border-bottom: 2px solid var(--sklearn-color-text-on-default-background);\n",
       "  flex-grow: 1;\n",
       "}\n",
       "\n",
       "#sk-container-id-2 div.sk-parallel {\n",
       "  display: flex;\n",
       "  align-items: stretch;\n",
       "  justify-content: center;\n",
       "  background-color: var(--sklearn-color-background);\n",
       "  position: relative;\n",
       "}\n",
       "\n",
       "#sk-container-id-2 div.sk-parallel-item {\n",
       "  display: flex;\n",
       "  flex-direction: column;\n",
       "}\n",
       "\n",
       "#sk-container-id-2 div.sk-parallel-item:first-child::after {\n",
       "  align-self: flex-end;\n",
       "  width: 50%;\n",
       "}\n",
       "\n",
       "#sk-container-id-2 div.sk-parallel-item:last-child::after {\n",
       "  align-self: flex-start;\n",
       "  width: 50%;\n",
       "}\n",
       "\n",
       "#sk-container-id-2 div.sk-parallel-item:only-child::after {\n",
       "  width: 0;\n",
       "}\n",
       "\n",
       "/* Serial-specific style estimator block */\n",
       "\n",
       "#sk-container-id-2 div.sk-serial {\n",
       "  display: flex;\n",
       "  flex-direction: column;\n",
       "  align-items: center;\n",
       "  background-color: var(--sklearn-color-background);\n",
       "  padding-right: 1em;\n",
       "  padding-left: 1em;\n",
       "}\n",
       "\n",
       "\n",
       "/* Toggleable style: style used for estimator/Pipeline/ColumnTransformer box that is\n",
       "clickable and can be expanded/collapsed.\n",
       "- Pipeline and ColumnTransformer use this feature and define the default style\n",
       "- Estimators will overwrite some part of the style using the `sk-estimator` class\n",
       "*/\n",
       "\n",
       "/* Pipeline and ColumnTransformer style (default) */\n",
       "\n",
       "#sk-container-id-2 div.sk-toggleable {\n",
       "  /* Default theme specific background. It is overwritten whether we have a\n",
       "  specific estimator or a Pipeline/ColumnTransformer */\n",
       "  background-color: var(--sklearn-color-background);\n",
       "}\n",
       "\n",
       "/* Toggleable label */\n",
       "#sk-container-id-2 label.sk-toggleable__label {\n",
       "  cursor: pointer;\n",
       "  display: block;\n",
       "  width: 100%;\n",
       "  margin-bottom: 0;\n",
       "  padding: 0.5em;\n",
       "  box-sizing: border-box;\n",
       "  text-align: center;\n",
       "}\n",
       "\n",
       "#sk-container-id-2 label.sk-toggleable__label-arrow:before {\n",
       "  /* Arrow on the left of the label */\n",
       "  content: \"▸\";\n",
       "  float: left;\n",
       "  margin-right: 0.25em;\n",
       "  color: var(--sklearn-color-icon);\n",
       "}\n",
       "\n",
       "#sk-container-id-2 label.sk-toggleable__label-arrow:hover:before {\n",
       "  color: var(--sklearn-color-text);\n",
       "}\n",
       "\n",
       "/* Toggleable content - dropdown */\n",
       "\n",
       "#sk-container-id-2 div.sk-toggleable__content {\n",
       "  max-height: 0;\n",
       "  max-width: 0;\n",
       "  overflow: hidden;\n",
       "  text-align: left;\n",
       "  /* unfitted */\n",
       "  background-color: var(--sklearn-color-unfitted-level-0);\n",
       "}\n",
       "\n",
       "#sk-container-id-2 div.sk-toggleable__content.fitted {\n",
       "  /* fitted */\n",
       "  background-color: var(--sklearn-color-fitted-level-0);\n",
       "}\n",
       "\n",
       "#sk-container-id-2 div.sk-toggleable__content pre {\n",
       "  margin: 0.2em;\n",
       "  border-radius: 0.25em;\n",
       "  color: var(--sklearn-color-text);\n",
       "  /* unfitted */\n",
       "  background-color: var(--sklearn-color-unfitted-level-0);\n",
       "}\n",
       "\n",
       "#sk-container-id-2 div.sk-toggleable__content.fitted pre {\n",
       "  /* unfitted */\n",
       "  background-color: var(--sklearn-color-fitted-level-0);\n",
       "}\n",
       "\n",
       "#sk-container-id-2 input.sk-toggleable__control:checked~div.sk-toggleable__content {\n",
       "  /* Expand drop-down */\n",
       "  max-height: 200px;\n",
       "  max-width: 100%;\n",
       "  overflow: auto;\n",
       "}\n",
       "\n",
       "#sk-container-id-2 input.sk-toggleable__control:checked~label.sk-toggleable__label-arrow:before {\n",
       "  content: \"▾\";\n",
       "}\n",
       "\n",
       "/* Pipeline/ColumnTransformer-specific style */\n",
       "\n",
       "#sk-container-id-2 div.sk-label input.sk-toggleable__control:checked~label.sk-toggleable__label {\n",
       "  color: var(--sklearn-color-text);\n",
       "  background-color: var(--sklearn-color-unfitted-level-2);\n",
       "}\n",
       "\n",
       "#sk-container-id-2 div.sk-label.fitted input.sk-toggleable__control:checked~label.sk-toggleable__label {\n",
       "  background-color: var(--sklearn-color-fitted-level-2);\n",
       "}\n",
       "\n",
       "/* Estimator-specific style */\n",
       "\n",
       "/* Colorize estimator box */\n",
       "#sk-container-id-2 div.sk-estimator input.sk-toggleable__control:checked~label.sk-toggleable__label {\n",
       "  /* unfitted */\n",
       "  background-color: var(--sklearn-color-unfitted-level-2);\n",
       "}\n",
       "\n",
       "#sk-container-id-2 div.sk-estimator.fitted input.sk-toggleable__control:checked~label.sk-toggleable__label {\n",
       "  /* fitted */\n",
       "  background-color: var(--sklearn-color-fitted-level-2);\n",
       "}\n",
       "\n",
       "#sk-container-id-2 div.sk-label label.sk-toggleable__label,\n",
       "#sk-container-id-2 div.sk-label label {\n",
       "  /* The background is the default theme color */\n",
       "  color: var(--sklearn-color-text-on-default-background);\n",
       "}\n",
       "\n",
       "/* On hover, darken the color of the background */\n",
       "#sk-container-id-2 div.sk-label:hover label.sk-toggleable__label {\n",
       "  color: var(--sklearn-color-text);\n",
       "  background-color: var(--sklearn-color-unfitted-level-2);\n",
       "}\n",
       "\n",
       "/* Label box, darken color on hover, fitted */\n",
       "#sk-container-id-2 div.sk-label.fitted:hover label.sk-toggleable__label.fitted {\n",
       "  color: var(--sklearn-color-text);\n",
       "  background-color: var(--sklearn-color-fitted-level-2);\n",
       "}\n",
       "\n",
       "/* Estimator label */\n",
       "\n",
       "#sk-container-id-2 div.sk-label label {\n",
       "  font-family: monospace;\n",
       "  font-weight: bold;\n",
       "  display: inline-block;\n",
       "  line-height: 1.2em;\n",
       "}\n",
       "\n",
       "#sk-container-id-2 div.sk-label-container {\n",
       "  text-align: center;\n",
       "}\n",
       "\n",
       "/* Estimator-specific */\n",
       "#sk-container-id-2 div.sk-estimator {\n",
       "  font-family: monospace;\n",
       "  border: 1px dotted var(--sklearn-color-border-box);\n",
       "  border-radius: 0.25em;\n",
       "  box-sizing: border-box;\n",
       "  margin-bottom: 0.5em;\n",
       "  /* unfitted */\n",
       "  background-color: var(--sklearn-color-unfitted-level-0);\n",
       "}\n",
       "\n",
       "#sk-container-id-2 div.sk-estimator.fitted {\n",
       "  /* fitted */\n",
       "  background-color: var(--sklearn-color-fitted-level-0);\n",
       "}\n",
       "\n",
       "/* on hover */\n",
       "#sk-container-id-2 div.sk-estimator:hover {\n",
       "  /* unfitted */\n",
       "  background-color: var(--sklearn-color-unfitted-level-2);\n",
       "}\n",
       "\n",
       "#sk-container-id-2 div.sk-estimator.fitted:hover {\n",
       "  /* fitted */\n",
       "  background-color: var(--sklearn-color-fitted-level-2);\n",
       "}\n",
       "\n",
       "/* Specification for estimator info (e.g. \"i\" and \"?\") */\n",
       "\n",
       "/* Common style for \"i\" and \"?\" */\n",
       "\n",
       ".sk-estimator-doc-link,\n",
       "a:link.sk-estimator-doc-link,\n",
       "a:visited.sk-estimator-doc-link {\n",
       "  float: right;\n",
       "  font-size: smaller;\n",
       "  line-height: 1em;\n",
       "  font-family: monospace;\n",
       "  background-color: var(--sklearn-color-background);\n",
       "  border-radius: 1em;\n",
       "  height: 1em;\n",
       "  width: 1em;\n",
       "  text-decoration: none !important;\n",
       "  margin-left: 1ex;\n",
       "  /* unfitted */\n",
       "  border: var(--sklearn-color-unfitted-level-1) 1pt solid;\n",
       "  color: var(--sklearn-color-unfitted-level-1);\n",
       "}\n",
       "\n",
       ".sk-estimator-doc-link.fitted,\n",
       "a:link.sk-estimator-doc-link.fitted,\n",
       "a:visited.sk-estimator-doc-link.fitted {\n",
       "  /* fitted */\n",
       "  border: var(--sklearn-color-fitted-level-1) 1pt solid;\n",
       "  color: var(--sklearn-color-fitted-level-1);\n",
       "}\n",
       "\n",
       "/* On hover */\n",
       "div.sk-estimator:hover .sk-estimator-doc-link:hover,\n",
       ".sk-estimator-doc-link:hover,\n",
       "div.sk-label-container:hover .sk-estimator-doc-link:hover,\n",
       ".sk-estimator-doc-link:hover {\n",
       "  /* unfitted */\n",
       "  background-color: var(--sklearn-color-unfitted-level-3);\n",
       "  color: var(--sklearn-color-background);\n",
       "  text-decoration: none;\n",
       "}\n",
       "\n",
       "div.sk-estimator.fitted:hover .sk-estimator-doc-link.fitted:hover,\n",
       ".sk-estimator-doc-link.fitted:hover,\n",
       "div.sk-label-container:hover .sk-estimator-doc-link.fitted:hover,\n",
       ".sk-estimator-doc-link.fitted:hover {\n",
       "  /* fitted */\n",
       "  background-color: var(--sklearn-color-fitted-level-3);\n",
       "  color: var(--sklearn-color-background);\n",
       "  text-decoration: none;\n",
       "}\n",
       "\n",
       "/* Span, style for the box shown on hovering the info icon */\n",
       ".sk-estimator-doc-link span {\n",
       "  display: none;\n",
       "  z-index: 9999;\n",
       "  position: relative;\n",
       "  font-weight: normal;\n",
       "  right: .2ex;\n",
       "  padding: .5ex;\n",
       "  margin: .5ex;\n",
       "  width: min-content;\n",
       "  min-width: 20ex;\n",
       "  max-width: 50ex;\n",
       "  color: var(--sklearn-color-text);\n",
       "  box-shadow: 2pt 2pt 4pt #999;\n",
       "  /* unfitted */\n",
       "  background: var(--sklearn-color-unfitted-level-0);\n",
       "  border: .5pt solid var(--sklearn-color-unfitted-level-3);\n",
       "}\n",
       "\n",
       ".sk-estimator-doc-link.fitted span {\n",
       "  /* fitted */\n",
       "  background: var(--sklearn-color-fitted-level-0);\n",
       "  border: var(--sklearn-color-fitted-level-3);\n",
       "}\n",
       "\n",
       ".sk-estimator-doc-link:hover span {\n",
       "  display: block;\n",
       "}\n",
       "\n",
       "/* \"?\"-specific style due to the `<a>` HTML tag */\n",
       "\n",
       "#sk-container-id-2 a.estimator_doc_link {\n",
       "  float: right;\n",
       "  font-size: 1rem;\n",
       "  line-height: 1em;\n",
       "  font-family: monospace;\n",
       "  background-color: var(--sklearn-color-background);\n",
       "  border-radius: 1rem;\n",
       "  height: 1rem;\n",
       "  width: 1rem;\n",
       "  text-decoration: none;\n",
       "  /* unfitted */\n",
       "  color: var(--sklearn-color-unfitted-level-1);\n",
       "  border: var(--sklearn-color-unfitted-level-1) 1pt solid;\n",
       "}\n",
       "\n",
       "#sk-container-id-2 a.estimator_doc_link.fitted {\n",
       "  /* fitted */\n",
       "  border: var(--sklearn-color-fitted-level-1) 1pt solid;\n",
       "  color: var(--sklearn-color-fitted-level-1);\n",
       "}\n",
       "\n",
       "/* On hover */\n",
       "#sk-container-id-2 a.estimator_doc_link:hover {\n",
       "  /* unfitted */\n",
       "  background-color: var(--sklearn-color-unfitted-level-3);\n",
       "  color: var(--sklearn-color-background);\n",
       "  text-decoration: none;\n",
       "}\n",
       "\n",
       "#sk-container-id-2 a.estimator_doc_link.fitted:hover {\n",
       "  /* fitted */\n",
       "  background-color: var(--sklearn-color-fitted-level-3);\n",
       "}\n",
       "</style><div id=\"sk-container-id-2\" class=\"sk-top-container\"><div class=\"sk-text-repr-fallback\"><pre>RandomForestClassifier(random_state=42)</pre><b>In a Jupyter environment, please rerun this cell to show the HTML representation or trust the notebook. <br />On GitHub, the HTML representation is unable to render, please try loading this page with nbviewer.org.</b></div><div class=\"sk-container\" hidden><div class=\"sk-item\"><div class=\"sk-estimator fitted sk-toggleable\"><input class=\"sk-toggleable__control sk-hidden--visually\" id=\"sk-estimator-id-2\" type=\"checkbox\" checked><label for=\"sk-estimator-id-2\" class=\"sk-toggleable__label fitted sk-toggleable__label-arrow fitted\">&nbsp;&nbsp;RandomForestClassifier<a class=\"sk-estimator-doc-link fitted\" rel=\"noreferrer\" target=\"_blank\" href=\"https://scikit-learn.org/1.4/modules/generated/sklearn.ensemble.RandomForestClassifier.html\">?<span>Documentation for RandomForestClassifier</span></a><span class=\"sk-estimator-doc-link fitted\">i<span>Fitted</span></span></label><div class=\"sk-toggleable__content fitted\"><pre>RandomForestClassifier(random_state=42)</pre></div> </div></div></div></div>"
      ],
      "text/plain": [
       "RandomForestClassifier(random_state=42)"
      ]
     },
     "execution_count": 300,
     "metadata": {},
     "output_type": "execute_result"
    }
   ],
   "source": [
    "# Fit a classification model (Random Forest)\n",
    "model = RandomForestClassifier(random_state=42)\n",
    "model.fit(X_train, y_train)"
   ]
  },
  {
   "cell_type": "code",
   "execution_count": 301,
   "id": "9cf30e8b-b241-4966-b84e-cf9f547d4622",
   "metadata": {},
   "outputs": [],
   "source": [
    "# Make predictions\n",
    "y_pred = model.predict(X_test)"
   ]
  },
  {
   "cell_type": "code",
   "execution_count": 302,
   "id": "d156352a-e39c-4732-b161-a82e70a20334",
   "metadata": {},
   "outputs": [
    {
     "name": "stdout",
     "output_type": "stream",
     "text": [
      "\n",
      "Classification Report:\n",
      "              precision    recall  f1-score   support\n",
      "\n",
      "           0       1.00      1.00      1.00      4976\n",
      "           1       1.00      1.00      1.00      1537\n",
      "\n",
      "    accuracy                           1.00      6513\n",
      "   macro avg       1.00      1.00      1.00      6513\n",
      "weighted avg       1.00      1.00      1.00      6513\n",
      "\n",
      "\n",
      "Confusion Matrix:\n",
      "[[4976    0]\n",
      " [   0 1537]]\n",
      "\n",
      "ROC AUC Score:\n",
      "1.0\n"
     ]
    }
   ],
   "source": [
    "# Evaluate the model\n",
    "print(\"\\nClassification Report:\")\n",
    "print(classification_report(y_test, y_pred))\n",
    "print(\"\\nConfusion Matrix:\")\n",
    "print(confusion_matrix(y_test, y_pred))\n",
    "print(\"\\nROC AUC Score:\")\n",
    "print(roc_auc_score(y_test, y_pred))"
   ]
  },
  {
   "cell_type": "markdown",
   "id": "52d07ef1-1a3e-4356-bd4e-5306ecca63f7",
   "metadata": {},
   "source": [
    "## Forecasting (Long-Term Savings Growth)\n",
    "We will use Facebook Prophet time series forecasting"
   ]
  },
  {
   "cell_type": "code",
   "execution_count": 303,
   "id": "806bbbe9-3eab-474b-99be-2711adbdb6d8",
   "metadata": {},
   "outputs": [],
   "source": [
    "# We'll assume you want to forecast inflation for a specific country\n",
    "country_name = 'South Africa'  # Change to the desired country\n",
    "country_data = global_inflation_df[global_inflation_df['country_name'] == country_name]\n"
   ]
  },
  {
   "cell_type": "code",
   "execution_count": 304,
   "id": "db434861-227a-47dc-be12-eb4d46d9a4b7",
   "metadata": {},
   "outputs": [],
   "source": [
    "# Melt the DataFrame to long format\n",
    "country_data = country_data.melt(id_vars=['country_name', 'indicator_name'], \n",
    "                                  var_name='year', \n",
    "                                  value_name='inflation_rate')"
   ]
  },
  {
   "cell_type": "code",
   "execution_count": 305,
   "id": "35740375-fee3-4c65-89ed-b4a217c54013",
   "metadata": {},
   "outputs": [],
   "source": [
    "# Convert 'year' to datetime\n",
    "country_data['year'] = pd.to_datetime(country_data['year'], format='%Y')"
   ]
  },
  {
   "cell_type": "code",
   "execution_count": 306,
   "id": "d1c92956-d476-4f28-b30c-d902149a7da8",
   "metadata": {},
   "outputs": [],
   "source": [
    "# Prepare the data for Prophet\n",
    "prophet_data = country_data[['year', 'inflation_rate']].rename(columns={'year': 'ds', 'inflation_rate': 'y'})\n"
   ]
  },
  {
   "cell_type": "code",
   "execution_count": 307,
   "id": "cbae90c0-38dd-4121-8051-74a759edfe91",
   "metadata": {},
   "outputs": [],
   "source": [
    "# Initialize the Prophet model\n",
    "model = Prophet()"
   ]
  },
  {
   "cell_type": "code",
   "execution_count": 308,
   "id": "71b58676-99e4-4429-aeca-5099a0d9263b",
   "metadata": {},
   "outputs": [
    {
     "name": "stderr",
     "output_type": "stream",
     "text": [
      "13:06:44 - cmdstanpy - INFO - Chain [1] start processing\n",
      "13:06:45 - cmdstanpy - INFO - Chain [1] done processing\n"
     ]
    },
    {
     "data": {
      "text/plain": [
       "<prophet.forecaster.Prophet at 0x203a07538f0>"
      ]
     },
     "execution_count": 308,
     "metadata": {},
     "output_type": "execute_result"
    }
   ],
   "source": [
    "# Fit the model\n",
    "model.fit(prophet_data)"
   ]
  },
  {
   "cell_type": "code",
   "execution_count": 309,
   "id": "b57730c6-1a1f-4471-a943-1d1c2b570316",
   "metadata": {},
   "outputs": [
    {
     "name": "stderr",
     "output_type": "stream",
     "text": [
      "C:\\Users\\notha\\AppData\\Roaming\\Python\\Python312\\site-packages\\prophet\\forecaster.py:1854: FutureWarning: 'Y' is deprecated and will be removed in a future version, please use 'YE' instead.\n",
      "  dates = pd.date_range(\n"
     ]
    }
   ],
   "source": [
    "# Create future dataframe for the next few years\n",
    "future = model.make_future_dataframe(periods=5, freq='Y')  # Forecast for the next 5 years\n"
   ]
  },
  {
   "cell_type": "code",
   "execution_count": 310,
   "id": "0007b33c-39fe-4e67-9bfd-de0d8ec9c5f3",
   "metadata": {},
   "outputs": [],
   "source": [
    "# Make predictions\n",
    "forecast = model.predict(future)"
   ]
  },
  {
   "cell_type": "code",
   "execution_count": 311,
   "id": "f93bccdb-0313-47f8-af87-b44cc980c28a",
   "metadata": {},
   "outputs": [
    {
     "name": "stderr",
     "output_type": "stream",
     "text": [
      "C:\\Users\\notha\\AppData\\Roaming\\Python\\Python312\\site-packages\\prophet\\plot.py:72: FutureWarning: The behavior of DatetimeProperties.to_pydatetime is deprecated, in a future version this will return a Series containing python datetime objects instead of an ndarray. To retain the old behavior, call `np.array` on the result\n",
      "  fcst_t = fcst['ds'].dt.to_pydatetime()\n",
      "C:\\Users\\notha\\AppData\\Roaming\\Python\\Python312\\site-packages\\prophet\\plot.py:73: FutureWarning: The behavior of DatetimeProperties.to_pydatetime is deprecated, in a future version this will return a Series containing python datetime objects instead of an ndarray. To retain the old behavior, call `np.array` on the result\n",
      "  ax.plot(m.history['ds'].dt.to_pydatetime(), m.history['y'], 'k.',\n"
     ]
    },
    {
     "data": {
      "image/png": "[encoded data removed]",
      "text/plain": [
       "<Figure size 1000x600 with 1 Axes>"
      ]
     },
     "metadata": {},
     "output_type": "display_data"
    }
   ],
   "source": [
    "# Plot the results\n",
    "model.plot(forecast)\n",
    "plt.title(f'Inflation Rate Forecast for {country_name}')\n",
    "plt.xlabel('Year')\n",
    "plt.ylabel('Inflation Rate (%)')\n",
    "plt.show()"
   ]
  },
  {
   "cell_type": "markdown",
   "id": "fbaffb22-d4e2-47ac-ba19-4eec14d43613",
   "metadata": {},
   "source": [
    "## Sentimental Analysis (Employee Feedback)\n",
    "\n",
    "### Data Collection\n",
    "Collect employee feedback data from surveys, interviews, or any other relevant sources. This data should be in textual form, capturing employees' opinions, feelings, and suggestions about the Two-Pot system.\n",
    "\n",
    "### Text Preprocessing\n",
    "Clean the collected text data to prepare it for analysis. \n",
    "Tokenization: Breaking down text into individual words or tokens.\n",
    "Stopword Removal: Removing common words that do not carry much meaning (e.g., \"and,\" \"the\").\n",
    "Stemming and Lemmatization: Reducing words to their root forms (e.g., \"running\" -> \"run\").\n",
    "\n",
    "### Feature Extraction\n",
    "Transform the preprocessed text into a numerical format that can be analyzed. \n",
    "Bag of Words: Representing text as a frequency count of words.\n",
    "Term Frequency-Inverse Document Frequency (TF-IDF): Weighing the importance of words based on their frequency in the feedback and across all documents.\n",
    "\n",
    "### Modeling\n",
    "Applying machine learning or deep learning models to the processed text to perform tasks like classification, translation, or summarization.\n",
    "\n",
    "### Postprocessing\n",
    "Generating human-readable outputs, such as generating sentences or extracting key information.\n",
    "\n",
    "### Categorization\n",
    "Positive Sentiment: Feedback that reflects satisfaction or approval of the Two-Pot system.\n",
    "Negative Sentiment: Feedback that indicates dissatisfaction or concerns about the system.\n",
    "Neutral Sentiment: Feedback that is factual or does not express a strong opinion.\n"
   ]
  }
 ],
 "metadata": {
  "kernelspec": {
   "display_name": "Python 3 (ipykernel)",
   "language": "python",
   "name": "python3"
  },
  "language_info": {
   "codemirror_mode": {
    "name": "ipython",
    "version": 3
   },
   "file_extension": ".py",
   "mimetype": "text/x-python",
   "name": "python",
   "nbconvert_exporter": "python",
   "pygments_lexer": "ipython3",
   "version": "3.12.3"
  }
 },
 "nbformat": 4,
 "nbformat_minor": 5
}
